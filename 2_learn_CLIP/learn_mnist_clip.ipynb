{
 "cells": [
  {
   "cell_type": "markdown",
   "metadata": {},
   "source": [
    "## dataset.py"
   ]
  },
  {
   "cell_type": "code",
   "execution_count": 2,
   "metadata": {},
   "outputs": [
    {
     "name": "stdout",
     "output_type": "stream",
     "text": [
      "Downloading http://yann.lecun.com/exdb/mnist/train-images-idx3-ubyte.gz\n",
      "Failed to download (trying next):\n",
      "HTTP Error 403: Forbidden\n",
      "\n",
      "Downloading https://ossci-datasets.s3.amazonaws.com/mnist/train-images-idx3-ubyte.gz\n",
      "Downloading https://ossci-datasets.s3.amazonaws.com/mnist/train-images-idx3-ubyte.gz to /home/wjc/mllm/data/mnist/MNIST/raw/train-images-idx3-ubyte.gz\n"
     ]
    },
    {
     "name": "stderr",
     "output_type": "stream",
     "text": [
      "100%|██████████| 9912422/9912422 [03:13<00:00, 51252.25it/s] \n"
     ]
    },
    {
     "name": "stdout",
     "output_type": "stream",
     "text": [
      "Extracting /home/wjc/mllm/data/mnist/MNIST/raw/train-images-idx3-ubyte.gz to /home/wjc/mllm/data/mnist/MNIST/raw\n",
      "\n",
      "Downloading http://yann.lecun.com/exdb/mnist/train-labels-idx1-ubyte.gz\n",
      "Failed to download (trying next):\n",
      "HTTP Error 403: Forbidden\n",
      "\n",
      "Downloading https://ossci-datasets.s3.amazonaws.com/mnist/train-labels-idx1-ubyte.gz\n",
      "Downloading https://ossci-datasets.s3.amazonaws.com/mnist/train-labels-idx1-ubyte.gz to /home/wjc/mllm/data/mnist/MNIST/raw/train-labels-idx1-ubyte.gz\n"
     ]
    },
    {
     "name": "stderr",
     "output_type": "stream",
     "text": [
      "100%|██████████| 28881/28881 [00:00<00:00, 96576.10it/s]\n"
     ]
    },
    {
     "name": "stdout",
     "output_type": "stream",
     "text": [
      "Extracting /home/wjc/mllm/data/mnist/MNIST/raw/train-labels-idx1-ubyte.gz to /home/wjc/mllm/data/mnist/MNIST/raw\n",
      "\n",
      "Downloading http://yann.lecun.com/exdb/mnist/t10k-images-idx3-ubyte.gz\n",
      "Failed to download (trying next):\n",
      "HTTP Error 403: Forbidden\n",
      "\n",
      "Downloading https://ossci-datasets.s3.amazonaws.com/mnist/t10k-images-idx3-ubyte.gz\n",
      "Downloading https://ossci-datasets.s3.amazonaws.com/mnist/t10k-images-idx3-ubyte.gz to /home/wjc/mllm/data/mnist/MNIST/raw/t10k-images-idx3-ubyte.gz\n"
     ]
    },
    {
     "name": "stderr",
     "output_type": "stream",
     "text": [
      "100%|██████████| 1648877/1648877 [00:15<00:00, 104042.67it/s]\n"
     ]
    },
    {
     "name": "stdout",
     "output_type": "stream",
     "text": [
      "Extracting /home/wjc/mllm/data/mnist/MNIST/raw/t10k-images-idx3-ubyte.gz to /home/wjc/mllm/data/mnist/MNIST/raw\n",
      "\n",
      "Downloading http://yann.lecun.com/exdb/mnist/t10k-labels-idx1-ubyte.gz\n",
      "Failed to download (trying next):\n",
      "HTTP Error 403: Forbidden\n",
      "\n",
      "Downloading https://ossci-datasets.s3.amazonaws.com/mnist/t10k-labels-idx1-ubyte.gz\n",
      "Downloading https://ossci-datasets.s3.amazonaws.com/mnist/t10k-labels-idx1-ubyte.gz to /home/wjc/mllm/data/mnist/MNIST/raw/t10k-labels-idx1-ubyte.gz\n"
     ]
    },
    {
     "name": "stderr",
     "output_type": "stream",
     "text": [
      "100%|██████████| 4542/4542 [00:00<00:00, 9361439.20it/s]"
     ]
    },
    {
     "name": "stdout",
     "output_type": "stream",
     "text": [
      "Extracting /home/wjc/mllm/data/mnist/MNIST/raw/t10k-labels-idx1-ubyte.gz to /home/wjc/mllm/data/mnist/MNIST/raw\n",
      "\n",
      "5\n"
     ]
    },
    {
     "name": "stderr",
     "output_type": "stream",
     "text": [
      "\n"
     ]
    },
    {
     "data": {
      "image/png": "[encoded data removed]",
      "text/plain": [
       "<Figure size 640x480 with 1 Axes>"
      ]
     },
     "metadata": {},
     "output_type": "display_data"
    }
   ],
   "source": [
    "# PILToTensor 是 torchvision.transforms 模块中的一个类，用于将 PIL 图像转换为 PyTorch 的 Tensor\n",
    "# 输入图像的格式通常是 (H x W x C)，即高度、宽度和通道数，转换后的 Tensor 的格式是 (C x H x W)，即通道数、高度和宽度。\n",
    "# 这是因为 PyTorch 的 Tensor 在处理图像时，通道数是第一个维度。\n",
    "# Compose 是 torchvision.transforms 模块中的另一个类，用于将多个图像变换操作组合在一起。它允许你将一系列的图像转换操作按顺序应用于输入图像。\n",
    "from torch.utils.data import Dataset\n",
    "from torchvision.transforms.v2 import PILToTensor,Compose\n",
    "import torchvision\n",
    "\n",
    "# 手写数字\n",
    "class MNIST(Dataset):\n",
    "    def __init__(self,is_train=True):\n",
    "        super().__init__()\n",
    "        self.ds=torchvision.datasets.MNIST('/home/wjc/mllm/data/mnist/',train=is_train,download=True)\n",
    "        # img_convert(img) 返回的张量的值范围在 [0, 255] 之间。\n",
    "        self.img_convert=Compose([\n",
    "            PILToTensor(),\n",
    "        ])\n",
    "        \n",
    "    def __len__(self):\n",
    "        return len(self.ds)\n",
    "    \n",
    "    # 当通过 ds[0] 获取数据时，实际上是调用了 __getitem__ 方法。\n",
    "    def __getitem__(self,index):\n",
    "        img,label=self.ds[index]\n",
    "        # 返回归一化后的图像 Tensor 和标签。\n",
    "        return self.img_convert(img)/255.0,label\n",
    "    \n",
    "if __name__=='__main__':\n",
    "    import matplotlib.pyplot as plt \n",
    "    \n",
    "    ds=MNIST()\n",
    "    img,label=ds[0]\n",
    "    print(label)\n",
    "    plt.imshow(img.permute(1,2,0))\n",
    "    # plt.show()"
   ]
  },
  {
   "cell_type": "markdown",
   "metadata": {},
   "source": [
    "## img_encoder.py\n",
    "\n",
    "卷积核计算公式：https://www.cnblogs.com/zoubilin/p/17567156.\n",
    "\n",
    "ReLU（Rectified Linear Unit）激活函数为网络引入非线性.当我们在网络的每一层之后使用 ReLU（或其他非线性激活函数）时，网络的输出不再是输入的简单线性组合。通过这种方式，网络能够表示和学习到更复杂的函数和模式。\n",
    "\n",
    "    x = torch.randn(1, 1, 4, 4)  # 张量形状为 (1, 1, 4, 4)\n",
    "    x_flattened = x.view(x.size(0), -1)  # 将张量展平成 (1, 16)\n",
    "    print(x_flattened.shape)  # 输出: torch.Size([1, 16])"
   ]
  },
  {
   "cell_type": "code",
   "execution_count": 8,
   "metadata": {},
   "outputs": [
    {
     "name": "stdout",
     "output_type": "stream",
     "text": [
      "1\n",
      "torch.Size([1, 8])\n"
     ]
    }
   ],
   "source": [
    "from torch import nn \n",
    "import torch \n",
    "import torch.nn.functional as F\n",
    "\n",
    "class ResidualBlock(nn.Module):\n",
    "    def __init__(self,in_channels,out_channels,stride):\n",
    "        super().__init__()\n",
    "        self.conv1=nn.Conv2d(in_channels=in_channels,out_channels=out_channels,kernel_size=3,padding=1,stride=stride)\n",
    "        self.bn1=nn.BatchNorm2d(out_channels)\n",
    "        \n",
    "        self.conv2=nn.Conv2d(in_channels=out_channels,out_channels=out_channels,kernel_size=3,padding=1,stride=1)\n",
    "        self.bn2=nn.BatchNorm2d(out_channels)\n",
    "        \n",
    "        self.conv3=nn.Conv2d(in_channels=in_channels,out_channels=out_channels,kernel_size=1,padding=0,stride=stride)\n",
    "    \n",
    "    def forward(self,x):\n",
    "        y=F.relu(self.bn1(self.conv1(x)))\n",
    "        y=self.bn2(self.conv2(y))\n",
    "        z=self.conv3(x)\n",
    "        return F.relu(y+z)\n",
    "        \n",
    "\n",
    "class ImgEncoder(nn.Module):\n",
    "    def __init__(self):\n",
    "        super().__init__()\n",
    "        self.res_block1=ResidualBlock(in_channels=1,out_channels=16,stride=2) # (batch,16,14,14)\n",
    "        self.res_block2=ResidualBlock(in_channels=16,out_channels=4,stride=2) # (batch,4,7,7)\n",
    "        self.res_block3=ResidualBlock(in_channels=4,out_channels=1,stride=2) # (batch,1,4,4)\n",
    "        self.wi=nn.Linear(in_features=16,out_features=8)\n",
    "        self.ln=nn.LayerNorm(8)\n",
    "        \n",
    "    def forward(self,x):\n",
    "        x=self.res_block1(x)\n",
    "        x=self.res_block2(x)\n",
    "        x=self.res_block3(x)\n",
    "        # print(x.size(0))\n",
    "        x=self.wi(x.view(x.size(0),-1))\n",
    "        x=self.ln(x)\n",
    "        return x\n",
    "    \n",
    "if __name__=='__main__':\n",
    "    img_encoder=ImgEncoder()\n",
    "    # 因为输入的图片张量是 1x28x28 的，所以输入的通道数是 1。\n",
    "    out=img_encoder(torch.randn(1,1,28,28))\n",
    "    print(out.shape)"
   ]
  },
  {
   "cell_type": "markdown",
   "metadata": {},
   "source": [
    "## text_encoder.py"
   ]
  },
  {
   "cell_type": "code",
   "execution_count": 9,
   "metadata": {},
   "outputs": [
    {
     "name": "stdout",
     "output_type": "stream",
     "text": [
      "torch.Size([10, 8])\n"
     ]
    }
   ],
   "source": [
    "from torch import nn \n",
    "import torch \n",
    "import torch.nn.functional as F\n",
    "\n",
    "class TextEncoder(nn.Module):\n",
    "    def __init__(self):\n",
    "        super().__init__()\n",
    "        # 一共只有十个数字，所以 num_embeddings=10。\n",
    "        self.emb=nn.Embedding(num_embeddings=10,embedding_dim=16)\n",
    "        self.dense1=nn.Linear(in_features=16,out_features=64)\n",
    "        self.dense2=nn.Linear(in_features=64,out_features=16)\n",
    "        self.wt=nn.Linear(in_features=16,out_features=8)\n",
    "        self.ln=nn.LayerNorm(8)\n",
    "    \n",
    "    def forward(self,x):\n",
    "        x=self.emb(x)\n",
    "        x=F.relu(self.dense1(x))\n",
    "        x=F.relu(self.dense2(x))\n",
    "        x=self.wt(x)\n",
    "        x=self.ln(x)\n",
    "        return x\n",
    "\n",
    "if __name__=='__main__':\n",
    "    text_encoder=TextEncoder()\n",
    "    x=torch.tensor([1,2,3,4,5,6,7,8,9,0])\n",
    "    y=text_encoder(x)\n",
    "    print(y.shape)"
   ]
  },
  {
   "cell_type": "markdown",
   "metadata": {},
   "source": [
    "## CLIP.py\n",
    "return img_emb @ text_emb.T 这行代码中的 @ 运算符表示矩阵乘法运算"
   ]
  },
  {
   "cell_type": "code",
   "execution_count": 11,
   "metadata": {},
   "outputs": [
    {
     "name": "stdout",
     "output_type": "stream",
     "text": [
      "5\n",
      "torch.Size([5, 5])\n"
     ]
    }
   ],
   "source": [
    "from torch import nn \n",
    "import torch \n",
    "# from img_encoder import ImgEncoder\n",
    "# from text_encoder import TextEncoder\n",
    "\n",
    "class CLIP(nn.Module):\n",
    "    def __init__(self,):\n",
    "        super().__init__()\n",
    "        self.img_enc=ImgEncoder()\n",
    "        self.text_enc=TextEncoder()\n",
    "\n",
    "    def forward(self,img_x,text_x):\n",
    "        img_emb=self.img_enc(img_x)\n",
    "        text_emb=self.text_enc(text_x)\n",
    "        return img_emb@text_emb.T\n",
    "    \n",
    "if __name__=='__main__':\n",
    "    clip=CLIP()\n",
    "    img_x=torch.randn(5,1,28,28)\n",
    "    text_x=torch.randint(0,10,(5,))\n",
    "    logits=clip(img_x,text_x)\n",
    "    print(logits.shape)"
   ]
  },
  {
   "cell_type": "code",
   "execution_count": 14,
   "metadata": {},
   "outputs": [
    {
     "data": {
      "text/plain": [
       "tensor([[[[-0.5934, -0.5750, -2.1580,  ...,  2.6855, -0.4067,  0.6574],\n",
       "          [-1.5243, -1.4248, -0.2115,  ...,  1.7521,  0.1227,  0.6983],\n",
       "          [ 1.0112,  0.8901, -0.1508,  ..., -1.2919,  0.4051, -2.7205],\n",
       "          ...,\n",
       "          [ 1.1697, -1.4691, -1.2244,  ...,  0.0223,  2.1281,  0.5019],\n",
       "          [ 0.2402, -1.5055, -1.3895,  ...,  1.5622, -0.4408,  0.4127],\n",
       "          [ 1.5139, -0.0595, -0.3256,  ..., -0.3279,  0.7978, -0.2185]]],\n",
       "\n",
       "\n",
       "        [[[ 0.8510, -0.5536, -0.7077,  ..., -0.9314,  1.1319, -0.0356],\n",
       "          [ 1.4177,  1.1410, -1.3114,  ..., -0.5541, -0.6159,  0.9672],\n",
       "          [-0.7171, -1.5755, -1.3565,  ..., -1.4452,  0.0304,  0.5849],\n",
       "          ...,\n",
       "          [-0.3193, -0.1108,  1.1973,  ..., -0.5583,  0.4985, -0.3087],\n",
       "          [-0.5008,  0.5747,  0.3786,  ...,  0.0545, -2.0439,  0.2778],\n",
       "          [ 0.5941, -0.4259, -0.0944,  ...,  0.1799, -0.1880, -0.0904]]],\n",
       "\n",
       "\n",
       "        [[[ 1.4839,  0.7221, -0.6917,  ..., -0.5925, -0.6376, -2.2693],\n",
       "          [ 0.2986, -1.0303,  0.5321,  ...,  1.5790, -0.9893,  0.6389],\n",
       "          [ 1.2459, -0.0572, -0.1210,  ..., -0.8457,  2.7942, -1.9121],\n",
       "          ...,\n",
       "          [-0.8728,  0.6558,  1.6275,  ..., -0.1027, -0.1273,  1.4058],\n",
       "          [-0.8909,  0.1568, -1.1414,  ..., -0.8247, -0.8497, -0.8631],\n",
       "          [ 0.4398,  2.2000,  1.3239,  ..., -0.3567,  0.2540, -0.3140]]],\n",
       "\n",
       "\n",
       "        [[[ 0.9684,  0.3770, -0.7810,  ..., -0.8255,  0.2580, -0.1499],\n",
       "          [-0.0970,  0.9489,  1.3783,  ..., -0.9812,  0.4020,  0.7426],\n",
       "          [ 0.0519,  0.0113,  0.8433,  ..., -1.0273,  0.9241, -0.2714],\n",
       "          ...,\n",
       "          [-0.4207,  0.0129, -0.4919,  ...,  0.7996,  1.6405,  0.8325],\n",
       "          [-1.2434,  1.6025, -0.4044,  ..., -0.3046,  0.3831, -1.0712],\n",
       "          [-0.9809, -1.0631, -0.5225,  ...,  0.2587, -0.5750,  1.0497]]],\n",
       "\n",
       "\n",
       "        [[[ 1.9121, -1.3489, -0.4183,  ..., -0.5694,  1.4186,  2.0700],\n",
       "          [ 0.1382,  0.8218, -0.0243,  ...,  1.3945,  0.7105,  1.5604],\n",
       "          [ 1.0615,  1.9092,  0.2958,  ...,  1.9209,  0.0145, -0.8261],\n",
       "          ...,\n",
       "          [ 1.8508, -0.1278, -0.2174,  ..., -1.7794, -1.1172,  0.0262],\n",
       "          [ 0.3869, -1.1925,  0.1462,  ..., -0.3964,  1.4034, -1.3196],\n",
       "          [-0.2476,  0.6501, -1.4747,  ..., -0.9684, -0.8949,  0.9273]]]])"
      ]
     },
     "execution_count": 14,
     "metadata": {},
     "output_type": "execute_result"
    }
   ],
   "source": [
    "img_x"
   ]
  },
  {
   "cell_type": "code",
   "execution_count": 12,
   "metadata": {},
   "outputs": [
    {
     "data": {
      "text/plain": [
       "tensor([0, 2, 8, 7, 4])"
      ]
     },
     "execution_count": 12,
     "metadata": {},
     "output_type": "execute_result"
    }
   ],
   "source": [
    "text_x"
   ]
  },
  {
   "cell_type": "code",
   "execution_count": 13,
   "metadata": {},
   "outputs": [
    {
     "data": {
      "text/plain": [
       "tensor([[2.8960, 5.9459, 5.8762, 3.0344, 4.1567],\n",
       "        [4.9482, 2.3083, 4.1040, 2.1235, 5.0371],\n",
       "        [5.1619, 6.9312, 7.6726, 4.1178, 6.4024],\n",
       "        [4.0675, 2.9430, 2.3627, 4.7666, 1.0974],\n",
       "        [2.6265, 4.9236, 4.9821, 2.3780, 2.8426]], grad_fn=<MmBackward0>)"
      ]
     },
     "execution_count": 13,
     "metadata": {},
     "output_type": "execute_result"
    }
   ],
   "source": [
    "logits"
   ]
  },
  {
   "cell_type": "markdown",
   "metadata": {},
   "source": [
    "## train.py"
   ]
  },
  {
   "cell_type": "code",
   "execution_count": null,
   "metadata": {},
   "outputs": [],
   "source": [
    "import torch \n",
    "from dataset import MNIST\n",
    "# from clip import CLIP\n",
    "import torch.nn.functional as F\n",
    "from torch.utils.data import DataLoader\n",
    "import os \n",
    "\n",
    "DEVICE='cuda' if torch.cuda.is_available() else 'cpu'   # 设备\n",
    "\n",
    "dataset=MNIST() # 数据集\n",
    "\n",
    "model=CLIP().to(DEVICE) # 模型\n",
    "\n",
    "try:    # 加载模型\n",
    "    model.load_state_dict(torch.load('model.pth'))\n",
    "except:\n",
    "    pass \n",
    "\n",
    "optimzer=torch.optim.Adam(model.parameters(),lr=1e-3)   # 优化器\n",
    "\n",
    "'''\n",
    "    训练模型\n",
    "'''\n",
    "ITER_BATCH_COUNT=100000    # 迭代次数\n",
    "BATCH_SIZE=64   # 从batch内选出10个不一样的数字\n",
    "TARGET_COUNT=10 # 共10种数字\n",
    "\n",
    "dataloader=DataLoader(dataset,batch_size=BATCH_SIZE,shuffle=True,num_workers=10,persistent_workers=True)    # 数据加载器\n",
    "\n",
    "for i in range(ITER_BATCH_COUNT):\n",
    "    while True:\n",
    "        imgs,labels=next(iter(dataloader))\n",
    "        if torch.unique(labels).shape[0]<TARGET_COUNT:  # 未覆盖10种数字\n",
    "            continue\n",
    "        # 挑选出10个数字\n",
    "        target=set()    \n",
    "        indexes=[]\n",
    "        for j in range(BATCH_SIZE):\n",
    "            if labels[j].item() in target:\n",
    "                continue \n",
    "            target.add(labels[j].item())\n",
    "            indexes.append(j)\n",
    "            if len(target)==TARGET_COUNT:\n",
    "                break\n",
    "        imgs=imgs[indexes]\n",
    "        labels=labels[indexes]\n",
    "        break\n",
    "\n",
    "    logits=model(imgs.to(DEVICE),labels.to(DEVICE))\n",
    "    \n",
    "    targets=torch.arange(0,TARGET_COUNT).to(DEVICE)\n",
    "    loss_i=F.cross_entropy(logits,targets)\n",
    "    loss_t=F.cross_entropy(logits.permute(1,0),targets)\n",
    "    loss=(loss_i+loss_t)/2\n",
    "    \n",
    "    optimzer.zero_grad()\n",
    "    loss.backward()\n",
    "    optimzer.step()\n",
    "    if i%1000==0:\n",
    "        print('iter:{},loss:{}'.format(i,loss))\n",
    "        torch.save(model.state_dict(),'.model.pth')\n",
    "        os.replace('.model.pth','model.pth')"
   ]
  }
 ],
 "metadata": {
  "kernelspec": {
   "display_name": "base",
   "language": "python",
   "name": "python3"
  },
  "language_info": {
   "codemirror_mode": {
    "name": "ipython",
    "version": 3
   },
   "file_extension": ".py",
   "mimetype": "text/x-python",
   "name": "python",
   "nbconvert_exporter": "python",
   "pygments_lexer": "ipython3",
   "version": "3.12.2"
  }
 },
 "nbformat": 4,
 "nbformat_minor": 2
}
